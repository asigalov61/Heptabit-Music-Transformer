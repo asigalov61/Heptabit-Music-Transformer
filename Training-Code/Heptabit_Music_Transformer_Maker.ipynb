{
  "cells": [
    {
      "cell_type": "markdown",
      "metadata": {
        "id": "VGrGd6__l5ch"
      },
      "source": [
        "# Heptabit Music Transformer Maker (ver. 1.0)\n",
        "\n",
        "***\n",
        "\n",
        "Powered by tegridy-tools: https://github.com/asigalov61/tegridy-tools\n",
        "\n",
        "***\n",
        "\n",
        "WARNING: This complete implementation is a functioning model of the Artificial Intelligence. Please excercise great humility, care, and respect. https://www.nscai.gov/\n",
        "\n",
        "***\n",
        "\n",
        "#### Project Los Angeles\n",
        "\n",
        "#### Tegridy Code 2023\n",
        "\n",
        "***"
      ]
    },
    {
      "cell_type": "markdown",
      "metadata": {
        "id": "shLrgoXdl5cj"
      },
      "source": [
        "# GPU check"
      ]
    },
    {
      "cell_type": "code",
      "execution_count": null,
      "metadata": {
        "id": "X3rABEpKCO02"
      },
      "outputs": [],
      "source": [
        "!nvidia-smi"
      ]
    },
    {
      "cell_type": "markdown",
      "metadata": {
        "id": "0RcVC4btl5ck"
      },
      "source": [
        "# Setup environment"
      ]
    },
    {
      "cell_type": "code",
      "execution_count": null,
      "metadata": {
        "id": "viHgEaNACPTs"
      },
      "outputs": [],
      "source": [
        "!git clone https://github.com/asigalov61/tegridy-tools"
      ]
    },
    {
      "cell_type": "code",
      "execution_count": null,
      "metadata": {
        "id": "vK40g6V_BTNj"
      },
      "outputs": [],
      "source": [
        "!pip install --upgrade pip\n",
        "!pip3 install --pre torch torchvision torchaudio --index-url https://download.pytorch.org/whl/nightly/cu121\n",
        "!pip install einops\n",
        "!pip install torch-summary\n",
        "!pip install tqdm\n",
        "!pip install matplotlib"
      ]
    },
    {
      "cell_type": "code",
      "execution_count": null,
      "metadata": {
        "id": "DzCOZU_gBiQV"
      },
      "outputs": [],
      "source": [
        "# Load modules and make data dir\n",
        "\n",
        "print('Loading modules...')\n",
        "\n",
        "import os\n",
        "import pickle\n",
        "import random\n",
        "import secrets\n",
        "import tqdm\n",
        "import math\n",
        "import torch\n",
        "import torch.optim as optim\n",
        "from torch.utils.data import DataLoader, Dataset\n",
        "\n",
        "import matplotlib.pyplot as plt\n",
        "\n",
        "from torchsummary import summary\n",
        "from sklearn import metrics\n",
        "\n",
        "%cd /content/tegridy-tools/tegridy-tools/\n",
        "\n",
        "import TMIDIX\n",
        "\n",
        "%cd /content/tegridy-tools/tegridy-tools/X-Transformer\n",
        "\n",
        "from x_transformer_1_23_2 import *\n",
        "\n",
        "torch.set_float32_matmul_precision('high')\n",
        "torch.backends.cuda.matmul.allow_tf32 = True # allow tf32 on matmul\n",
        "torch.backends.cudnn.allow_tf32 = True # allow tf32 on cudnn\n",
        "\n",
        "%cd /content/\n",
        "\n",
        "if not os.path.exists('/content/INTS'):\n",
        "    os.makedirs('/content/INTS')\n",
        "\n",
        "import random\n",
        "\n",
        "print('Done')"
      ]
    },
    {
      "cell_type": "markdown",
      "metadata": {
        "id": "Sbhzy8FGl5cm"
      },
      "source": [
        "# Load training data"
      ]
    },
    {
      "cell_type": "code",
      "execution_count": null,
      "metadata": {
        "id": "IdBpL-HUHLBW"
      },
      "outputs": [],
      "source": [
        "dataset_addr = \"/content/INTS\"\n",
        "\n",
        "SEQ_LEN = 8192 # Models seq len\n",
        "PAD_IDX = 17286 # Models pad index\n",
        "\n",
        "CHUNKS_LENGTH = SEQ_LEN+1\n",
        "MIN_NUMBER_OF_CHUNK_EVENTS = 512 # min number of tokens per chunk\n",
        "\n",
        "#==========================================================================\n",
        "\n",
        "filez = list()\n",
        "for (dirpath, dirnames, filenames) in os.walk(dataset_addr):\n",
        "    filez += [os.path.join(dirpath, file) for file in filenames]\n",
        "print('=' * 70)\n",
        "\n",
        "filez.sort()\n",
        "\n",
        "#==========================================================================\n",
        "\n",
        "print('Loading training data... Please wait...')\n",
        "print('=' * 70)\n",
        "\n",
        "train_data = []\n",
        "\n",
        "chunks_counter = 0\n",
        "discarted_chunks_counter = 0\n",
        "\n",
        "for f in tqdm.tqdm(filez):\n",
        "  train_d = pickle.load(open(f, 'rb'))\n",
        "  random.shuffle(train_d)\n",
        "  for t in train_d:\n",
        "    for i in range(0, len(t), CHUNKS_LENGTH):\n",
        "\n",
        "      #=========================================================================\n",
        "      # collecting all possible chunks of chunks length\n",
        "\n",
        "      if 0 <= max(t[i:i+CHUNKS_LENGTH]) < PAD_IDX: # final data integrity check\n",
        "        if len(t[i:i+CHUNKS_LENGTH]) == CHUNKS_LENGTH:\n",
        "          train_data.append(t[i:i+CHUNKS_LENGTH])\n",
        "\n",
        "        else:\n",
        "          if len(t[i:i+CHUNKS_LENGTH]) > MIN_NUMBER_OF_CHUNK_EVENTS:\n",
        "            td = t[i:i+CHUNKS_LENGTH] + [PAD_IDX] * (CHUNKS_LENGTH-len(t[i:i+CHUNKS_LENGTH])) # padding with pad index\n",
        "            train_data.append(td)\n",
        "          else:\n",
        "            discarted_chunks_counter += 1\n",
        "\n",
        "        chunks_counter += 1\n",
        "\n",
        "    #=========================================================================\n",
        "    # Collecting middle chunk if it larger than chunks length\n",
        "\n",
        "    if 0 <= max(t) < PAD_IDX: # final data integrity check\n",
        "        if len(t) > CHUNKS_LENGTH+2:\n",
        "            sidx = int((len(t) / 2)-(CHUNKS_LENGTH / 2))\n",
        "            train_data.append(t[sidx:sidx+CHUNKS_LENGTH])\n",
        "\n",
        "        else:\n",
        "            discarted_chunks_counter += 1\n",
        "\n",
        "        chunks_counter += 1\n",
        "#==========================================================================\n",
        "\n",
        "print('Done!')\n",
        "print('=' * 70)\n",
        "print('Total number of imput chunks:', chunks_counter)\n",
        "print('Total number of good chunks:', len(train_data))\n",
        "print('Total number of discarted chunks:', discarted_chunks_counter, '/', round(100 * discarted_chunks_counter/chunks_counter, 3), '%')\n",
        "print('All data is good:', len(max(train_data, key=len)) == len(min(train_data, key=len)))\n",
        "print('=' * 70)\n",
        "print('Final data randomization...')\n",
        "random.shuffle(train_data)\n",
        "print('Done!')\n",
        "print('=' * 70)"
      ]
    },
    {
      "cell_type": "code",
      "execution_count": null,
      "metadata": {
        "id": "LtHSA8MeCpGU"
      },
      "outputs": [],
      "source": [
        "len(train_data)"
      ]
    },
    {
      "cell_type": "code",
      "execution_count": null,
      "metadata": {
        "id": "NLg-NI2BCrtQ"
      },
      "outputs": [],
      "source": [
        "train_data[0][:10], train_data[0][-10:]"
      ]
    },
    {
      "cell_type": "code",
      "execution_count": null,
      "metadata": {
        "id": "Xrawdn_ESX9p"
      },
      "outputs": [],
      "source": [
        "len(train_data) // 16"
      ]
    },
    {
      "cell_type": "markdown",
      "metadata": {
        "id": "VhZqBvqVl5cn"
      },
      "source": [
        "# Setup model"
      ]
    },
    {
      "cell_type": "code",
      "source": [
        "# Setup model\n",
        "\n",
        "# constants\n",
        "\n",
        "NUM_EPOCHS = 1\n",
        "\n",
        "BATCH_SIZE = 4\n",
        "GRADIENT_ACCUMULATE_EVERY = 4\n",
        "\n",
        "NUM_BATCHES = (len(train_data) // BATCH_SIZE // GRADIENT_ACCUMULATE_EVERY) * NUM_EPOCHS\n",
        "\n",
        "LEARNING_RATE = 2e-4\n",
        "\n",
        "VALIDATE_EVERY  = 100\n",
        "SAVE_EVERY = 500\n",
        "GENERATE_EVERY  = 100\n",
        "PRINT_STATS_EVERY = 20\n",
        "\n",
        "GENERATE_LENGTH = 32\n",
        "\n",
        "# helpers\n",
        "\n",
        "def cycle(loader):\n",
        "    while True:\n",
        "        for data in loader:\n",
        "            yield data\n",
        "\n",
        "# instantiate the model\n",
        "\n",
        "model = TransformerWrapper(\n",
        "    num_tokens = PAD_IDX+1,\n",
        "    max_seq_len = SEQ_LEN,\n",
        "    attn_layers = Decoder(dim = 1024, depth = 32, heads = 32, attn_flash = True)\n",
        "    )\n",
        "\n",
        "model = AutoregressiveWrapper(model, ignore_index = PAD_IDX)\n",
        "\n",
        "model.cuda()\n",
        "\n",
        "print('Done!')\n",
        "\n",
        "summary(model)\n",
        "\n",
        "# Dataloader\n",
        "\n",
        "class MusicDataset(Dataset):\n",
        "    def __init__(self, data, seq_len):\n",
        "        super().__init__()\n",
        "        self.data = data\n",
        "        self.seq_len = seq_len\n",
        "\n",
        "    def __getitem__(self, index):\n",
        "\n",
        "        # consequtive sampling\n",
        "\n",
        "        full_seq = torch.Tensor(self.data[index][:self.seq_len+1]).long()\n",
        "\n",
        "        return full_seq.cuda()\n",
        "\n",
        "    def __len__(self):\n",
        "        return (len(self.data) // BATCH_SIZE) * BATCH_SIZE\n",
        "\n",
        "train_dataset = MusicDataset(train_data, SEQ_LEN)\n",
        "val_dataset   = MusicDataset(train_data, SEQ_LEN)\n",
        "train_loader  = cycle(DataLoader(train_dataset, batch_size = BATCH_SIZE))\n",
        "val_loader    = cycle(DataLoader(val_dataset, batch_size = BATCH_SIZE))\n",
        "\n",
        "# precision/optimizer/scaler\n",
        "\n",
        "dtype = torch.float16\n",
        "\n",
        "ctx = torch.amp.autocast(device_type='cuda', dtype=dtype)\n",
        "\n",
        "optim = torch.optim.Adam(model.parameters(), lr=LEARNING_RATE)\n",
        "\n",
        "scaler = torch.cuda.amp.GradScaler(enabled=True)"
      ],
      "metadata": {
        "id": "mfwp06xzzPZ5"
      },
      "execution_count": null,
      "outputs": []
    },
    {
      "cell_type": "markdown",
      "metadata": {
        "id": "xJPxxFiwl5cn"
      },
      "source": [
        "# Train"
      ]
    },
    {
      "cell_type": "code",
      "execution_count": null,
      "metadata": {
        "id": "HETGqz_6K1ml"
      },
      "outputs": [],
      "source": [
        "# Train the model\n",
        "\n",
        "train_losses = []\n",
        "val_losses = []\n",
        "\n",
        "train_accs = []\n",
        "val_accs = []\n",
        "\n",
        "for i in tqdm.tqdm(range(NUM_BATCHES), mininterval=10., desc='Training'):\n",
        "    model.train()\n",
        "\n",
        "    for __ in range(GRADIENT_ACCUMULATE_EVERY):\n",
        "        with ctx:\n",
        "            loss, acc = model(next(train_loader))\n",
        "            loss = loss / GRADIENT_ACCUMULATE_EVERY\n",
        "            scaler.scale(loss).backward()\n",
        "\n",
        "    if i % PRINT_STATS_EVERY == 0:\n",
        "        print(f'Training loss: {loss.item() * GRADIENT_ACCUMULATE_EVERY}')\n",
        "        print(f'Training acc: {acc.item()}')\n",
        "\n",
        "    train_losses.append(loss.item() * GRADIENT_ACCUMULATE_EVERY)\n",
        "    train_accs.append(acc.item())\n",
        "\n",
        "    scaler.unscale_(optim)\n",
        "    torch.nn.utils.clip_grad_norm_(model.parameters(), 0.5)\n",
        "    scaler.step(optim)\n",
        "    scaler.update()\n",
        "    optim.zero_grad(set_to_none=True)\n",
        "\n",
        "    if i % VALIDATE_EVERY == 0:\n",
        "        model.eval()\n",
        "        with torch.no_grad():\n",
        "            with ctx:\n",
        "                val_loss, val_acc = model(next(val_loader))\n",
        "\n",
        "                print(f'Validation loss: {val_loss.item()}')\n",
        "                print(f'Validation acc: {val_acc.item()}')\n",
        "\n",
        "                val_losses.append(val_loss.item())\n",
        "                val_accs.append(val_acc.item())\n",
        "\n",
        "                print('Plotting training loss graph...')\n",
        "\n",
        "                tr_loss_list = train_losses\n",
        "                plt.plot([i for i in range(len(tr_loss_list))] ,tr_loss_list, 'b')\n",
        "                plt.show()\n",
        "                plt.close()\n",
        "                print('Done!')\n",
        "\n",
        "                print('Plotting training acc graph...')\n",
        "\n",
        "                tr_loss_list = train_accs\n",
        "                plt.plot([i for i in range(len(tr_loss_list))] ,tr_loss_list, 'b')\n",
        "                plt.show()\n",
        "                plt.close()\n",
        "                print('Done!')\n",
        "\n",
        "                print('Plotting validation loss graph...')\n",
        "                tr_loss_list = val_losses\n",
        "                plt.plot([i for i in range(len(tr_loss_list))] ,tr_loss_list, 'b')\n",
        "                plt.show()\n",
        "                plt.close()\n",
        "                print('Done!')\n",
        "\n",
        "                print('Plotting validation acc graph...')\n",
        "                tr_loss_list = val_accs\n",
        "                plt.plot([i for i in range(len(tr_loss_list))] ,tr_loss_list, 'b')\n",
        "                plt.show()\n",
        "                plt.close()\n",
        "                print('Done!')\n",
        "\n",
        "    if i % GENERATE_EVERY == 0:\n",
        "        model.eval()\n",
        "\n",
        "        inp = random.choice(val_dataset)[:-1]\n",
        "\n",
        "        print(inp)\n",
        "\n",
        "        with ctx:\n",
        "            sample = model.generate(inp[None, ...], GENERATE_LENGTH)\n",
        "\n",
        "        print(sample)\n",
        "\n",
        "    if i % SAVE_EVERY == 0:\n",
        "\n",
        "        print('Saving model progress. Please wait...')\n",
        "        print('model_checkpoint_' + str(i) + '_steps_' + str(round(float(train_losses[-1]), 4)) + '_loss_' + str(round(float(train_accs[-1]), 4)) + '_acc.pth')\n",
        "\n",
        "        fname = '/content/model_checkpoint_' + str(i) + '_steps_' + str(round(float(train_losses[-1]), 4)) + '_loss_' + str(round(float(train_accs[-1]), 4)) + '_acc.pth'\n",
        "\n",
        "        torch.save(model.state_dict(), fname)\n",
        "\n",
        "        data = [train_losses, train_accs, val_losses, val_accs]\n",
        "\n",
        "        TMIDIX.Tegridy_Any_Pickle_File_Writer(data, '/content/losses_accs')\n",
        "\n",
        "        print('Done!')\n",
        "\n",
        "#======================================================================================================\n",
        "\n",
        "print('Saving model progress. Please wait...')\n",
        "print('model_checkpoint_' + str(i) + '_steps_' + str(round(float(train_losses[-1]), 4)) + '_loss_' + str(round(float(train_accs[-1]), 4)) + '_acc.pth')\n",
        "\n",
        "fname = '/content/model_checkpoint_' + str(i) + '_steps_' + str(round(float(train_losses[-1]), 4)) + '_loss_' + str(round(float(train_accs[-1]), 4)) + '_acc.pth'\n",
        "\n",
        "torch.save(model.state_dict(), fname)\n",
        "\n",
        "print('Done!')\n",
        "\n",
        "data = [train_losses, train_accs, val_losses, val_accs]\n",
        "\n",
        "TMIDIX.Tegridy_Any_Pickle_File_Writer(data, '/content/losses_accuracies')\n",
        "\n",
        "# Save training loss graph\n",
        "\n",
        "plt.plot([i for i in range(len(train_losses))] ,train_losses, 'b')\n",
        "plt.savefig('/content/training_loss_graph.png')\n",
        "plt.close()\n",
        "print('Done!')\n",
        "\n",
        "# Save training acc graph\n",
        "\n",
        "plt.plot([i for i in range(len(train_accs))] ,train_accs, 'b')\n",
        "plt.savefig('/content/training_acc_graph.png')\n",
        "plt.close()\n",
        "print('Done!')\n",
        "\n",
        "# Save validation loss graph\n",
        "\n",
        "plt.plot([i for i in range(len(val_losses))] ,val_losses, 'b')\n",
        "plt.savefig('/content/validation_loss_graph.png')\n",
        "plt.close()\n",
        "print('Done!')\n",
        "\n",
        "# Save validation acc graph\n",
        "\n",
        "plt.plot([i for i in range(len(val_accs))] ,val_accs, 'b')\n",
        "plt.savefig('/content/validation_acc_graph.png')\n",
        "plt.close()\n",
        "print('Done!')"
      ]
    },
    {
      "cell_type": "markdown",
      "metadata": {
        "id": "wBkMH2gWl5co"
      },
      "source": [
        "# Final Save"
      ]
    },
    {
      "cell_type": "code",
      "execution_count": null,
      "metadata": {
        "id": "fCmj4MBmAOjF"
      },
      "outputs": [],
      "source": [
        "print('Saving model progress. Please wait...')\n",
        "print('model_checkpoint_' + str(i) + '_steps_' + str(round(float(train_losses[-1]), 4)) + '_loss_' + str(round(float(train_accs[-1]), 4)) + '_acc.pth')\n",
        "\n",
        "fname = '/content/model_checkpoint_' + str(i) + '_steps_' + str(round(float(train_losses[-1]), 4)) + '_loss_' + str(round(float(train_accs[-1]), 4)) + '_acc.pth'\n",
        "\n",
        "torch.save(model.state_dict(), fname)\n",
        "\n",
        "print('Done!')"
      ]
    },
    {
      "cell_type": "code",
      "execution_count": null,
      "metadata": {
        "id": "WwgV2ZA9ndQr"
      },
      "outputs": [],
      "source": [
        "data = [train_losses, train_accs, val_losses, val_accs]\n",
        "\n",
        "TMIDIX.Tegridy_Any_Pickle_File_Writer(data, '/content/losses_accuracies')"
      ]
    },
    {
      "cell_type": "code",
      "execution_count": null,
      "metadata": {
        "id": "4vE5Z15fCz1M"
      },
      "outputs": [],
      "source": [
        "# Save training loss graph\n",
        "\n",
        "plt.plot([i for i in range(len(train_losses))] ,train_losses, 'b')\n",
        "plt.savefig('/content/training_loss_graph.png')\n",
        "plt.close()\n",
        "print('Done!')\n",
        "\n",
        "# Save training acc graph\n",
        "\n",
        "plt.plot([i for i in range(len(train_accs))] ,train_accs, 'b')\n",
        "plt.savefig('/content/training_acc_graph.png')\n",
        "plt.close()\n",
        "print('Done!')\n",
        "\n",
        "# Save validation loss graph\n",
        "\n",
        "plt.plot([i for i in range(len(val_losses))] ,val_losses, 'b')\n",
        "plt.savefig('/content/validation_loss_graph.png')\n",
        "plt.close()\n",
        "print('Done!')\n",
        "\n",
        "# Save validation acc graph\n",
        "\n",
        "plt.plot([i for i in range(len(val_accs))] ,val_accs, 'b')\n",
        "plt.savefig('/content/validation_acc_graph.png')\n",
        "plt.close()\n",
        "print('Done!')"
      ]
    },
    {
      "cell_type": "markdown",
      "metadata": {
        "id": "feXay_Ed7mG5"
      },
      "source": [
        "# Eval"
      ]
    },
    {
      "cell_type": "code",
      "execution_count": null,
      "metadata": {
        "id": "naf65RxUXwDg"
      },
      "outputs": [],
      "source": [
        "model.eval()\n",
        "\n",
        "#x = (torch.tensor(random.choice(train_data)[:1000], dtype=torch.long, device=device_type)[None, ...])\n",
        "x = torch.tensor([[17285, 17154+0, 17156+0]] * 4, dtype=torch.long, device=device_type)\n",
        "\n",
        "# run generation\n",
        "\n",
        "with ctx:\n",
        "  out = model.generate(x,\n",
        "                        500,\n",
        "                        temperature=0.9,\n",
        "                        return_prime=True,\n",
        "                        verbose=True)\n",
        "\n",
        "y = out.tolist()\n",
        "\n",
        "print('---------------')"
      ]
    },
    {
      "cell_type": "code",
      "execution_count": null,
      "metadata": {
        "id": "tlBzqWpAnZna"
      },
      "outputs": [],
      "source": [
        "#@title Test INTs\n",
        "\n",
        "data = y[0]\n",
        "\n",
        "print('Sample INTs', data[:15])\n",
        "\n",
        "out = data[:200000]\n",
        "\n",
        "if len(out) != 0:\n",
        "\n",
        "    song = out\n",
        "    song_f = []\n",
        "\n",
        "    time = 0\n",
        "    dur = 0\n",
        "    vel = 0\n",
        "    pitch = 0\n",
        "    channel = 0\n",
        "\n",
        "    patches = [-1] * 16\n",
        "\n",
        "    channels = [0] * 16\n",
        "    channels[9] = 1\n",
        "\n",
        "    for ss in song:\n",
        "\n",
        "        if 0 <= ss < 128:\n",
        "\n",
        "            time += (ss * 32)\n",
        "\n",
        "        if 128 <= ss < 256:\n",
        "\n",
        "            dur = ((ss-128) * 32)\n",
        "\n",
        "        if 256 <= ss < 16897:\n",
        "            patch = (ss-256) // 129\n",
        "\n",
        "            if patch < 128:\n",
        "\n",
        "                if patch not in patches:\n",
        "                  if 0 in channels:\n",
        "                      cha = channels.index(0)\n",
        "                      channels[cha] = 1\n",
        "                  else:\n",
        "                      cha = 15\n",
        "\n",
        "                  patches[cha] = patch\n",
        "                  channel = patches.index(patch)\n",
        "                else:\n",
        "                  channel = patches.index(patch)\n",
        "\n",
        "            if patch == 128:\n",
        "                channel = 9\n",
        "\n",
        "            pitch = (ss-256) % 129\n",
        "\n",
        "            song_f.append(['note', time, dur, channel, pitch, vel ])\n",
        "\n",
        "patches = [0 if x==-1 else x for x in patches]\n",
        "\n",
        "detailed_stats = TMIDIX.Tegridy_ms_SONG_to_MIDI_Converter(song_f,\n",
        "                                                    output_signature = 'Heptabit Music Transformer',\n",
        "                                                    output_file_name = '/content/Heptabit-Music-Transformer-Composition',\n",
        "                                                    track_name='Project Los Angeles',\n",
        "                                                    list_of_MIDI_patches=patches\n",
        "                                                    )\n",
        "\n",
        "print('Done!')"
      ]
    },
    {
      "cell_type": "code",
      "execution_count": null,
      "metadata": {
        "id": "LZGayVt6okU9"
      },
      "outputs": [],
      "source": [
        "patches"
      ]
    },
    {
      "cell_type": "code",
      "execution_count": null,
      "metadata": {
        "id": "al3TDlH7T8m7"
      },
      "outputs": [],
      "source": [
        "tok_emb = model.net.token_emb.emb.weight.detach().cpu().tolist()\n",
        "\n",
        "cos_sim = metrics.pairwise_distances(\n",
        "  tok_emb, metric='cosine'\n",
        ")\n",
        "plt.figure(figsize=(7, 7))\n",
        "plt.imshow(cos_sim, cmap=\"inferno\", interpolation=\"nearest\")\n",
        "im_ratio = cos_sim.shape[0] / cos_sim.shape[1]\n",
        "plt.colorbar(fraction=0.046 * im_ratio, pad=0.04)\n",
        "plt.xlabel(\"Position\")\n",
        "plt.ylabel(\"Position\")\n",
        "plt.tight_layout()\n",
        "plt.plot()\n",
        "plt.savefig(\"/content/Heptabit-Music-Transformer-Tokens-Embeddings-Plot.png\", bbox_inches=\"tight\")"
      ]
    },
    {
      "cell_type": "markdown",
      "metadata": {
        "id": "z87TlDTVl5cp"
      },
      "source": [
        "# Congrats! You did it! :)"
      ]
    }
  ],
  "metadata": {
    "accelerator": "GPU",
    "colab": {
      "gpuClass": "premium",
      "gpuType": "A100",
      "machine_shape": "hm",
      "private_outputs": true,
      "provenance": []
    },
    "kernelspec": {
      "display_name": "Python 3",
      "language": "python",
      "name": "python3"
    },
    "language_info": {
      "codemirror_mode": {
        "name": "ipython",
        "version": 3
      },
      "file_extension": ".py",
      "mimetype": "text/x-python",
      "name": "python",
      "nbconvert_exporter": "python",
      "pygments_lexer": "ipython3",
      "version": "3.8.10"
    }
  },
  "nbformat": 4,
  "nbformat_minor": 0
}